{
 "cells": [
  {
   "cell_type": "markdown",
   "metadata": {},
   "source": [
    "# Pytorch MNIST tutorial\n"
   ]
  },
  {
   "cell_type": "markdown",
   "metadata": {},
   "source": [
    "## imports"
   ]
  },
  {
   "cell_type": "code",
   "execution_count": 74,
   "metadata": {},
   "outputs": [],
   "source": [
    "import pandas as pd\n",
    "\n",
    "import torch \n",
    "import torch.nn as nn\n",
    "import torch.nn.functional as F\n",
    "from torch.utils.data import Dataset, DataLoader\n",
    "import matplotlib.pyplot as plt\n",
    "import numpy as np\n",
    "\n",
    "train_path = './data/train.csv'"
   ]
  },
  {
   "cell_type": "markdown",
   "metadata": {},
   "source": [
    "## utils function:"
   ]
  },
  {
   "cell_type": "code",
   "execution_count": 130,
   "metadata": {},
   "outputs": [],
   "source": [
    "def plot_img(x):\n",
    "    x=x.reshape(28,28)\n",
    "    plt.imshow(x)\n",
    "    plt.show()"
   ]
  },
  {
   "cell_type": "code",
   "execution_count": 131,
   "metadata": {},
   "outputs": [
    {
     "data": {
      "text/plain": [
       "42000"
      ]
     },
     "execution_count": 131,
     "metadata": {},
     "output_type": "execute_result"
    }
   ],
   "source": [
    "df = pd.read_csv('./data/train.csv')\n",
    "\n",
    "len(df)"
   ]
  },
  {
   "cell_type": "code",
   "execution_count": 132,
   "metadata": {},
   "outputs": [],
   "source": [
    "Y = df['label']\n",
    "X = df.iloc[:,1:].as_matrix().reshape(42000,1,28,28)\n",
    "# X.reshape(42000,1,28,28)"
   ]
  },
  {
   "cell_type": "code",
   "execution_count": 133,
   "metadata": {},
   "outputs": [
    {
     "data": {
      "text/plain": [
       "(1, 28, 28)"
      ]
     },
     "execution_count": 133,
     "metadata": {},
     "output_type": "execute_result"
    }
   ],
   "source": [
    "X[0].shape"
   ]
  },
  {
   "cell_type": "code",
   "execution_count": 142,
   "metadata": {},
   "outputs": [
    {
     "data": {
      "image/png": "[encoded data removed]",
      "text/plain": [
       "<Figure size 432x288 with 1 Axes>"
      ]
     },
     "metadata": {},
     "output_type": "display_data"
    }
   ],
   "source": [
    "y= X[443]\n",
    "plot_img(y)"
   ]
  },
  {
   "cell_type": "markdown",
   "metadata": {},
   "source": [
    "## Dataset class\n",
    "__torch.utils.data.Dataset__ is an abstract class representing a dataset. Your custom dataset `should inherit Dataset and override the following methods`:\n",
    "\n",
    "1. `__len__` so that len(dataset) returns the size of the dataset.\n",
    "2. `__getitem__` to support the indexing such that `dataset[i]` can be used to get ith sample"
   ]
  },
  {
   "cell_type": "code",
   "execution_count": 139,
   "metadata": {},
   "outputs": [],
   "source": [
    "class MnistDataset(Dataset):\n",
    "    def __init__(self):\n",
    "        df = pd.read_csv(train_path)\n",
    "        self.X = df.iloc[:,1:].as_matrix().reshape(42000,1,28,28)\n",
    "        self.Y = df['label'].as_matrix()\n",
    "        \n",
    "    def __len__(self):\n",
    "        return len(self.X)\n",
    "    \n",
    "    def __getitem__(self,idx):\n",
    "        # return numpy array OR torch tensor ???\n",
    "        return self.X[idx]\n",
    "        \n",
    "        "
   ]
  },
  {
   "cell_type": "markdown",
   "metadata": {},
   "source": [
    "## Define the network\n",
    "\n",
    "Neural networks can be constructed using the `torch.nn` package.\n",
    "\n",
    "nn depends on autograd to define models and differentiate them. An `nn.Module` contains layers, and a method `forward(input)` that returns the output."
   ]
  },
  {
   "cell_type": "code",
   "execution_count": 6,
   "metadata": {},
   "outputs": [],
   "source": [
    "class Net(nn.Module):\n",
    "    def __init__(self, d_in, d_out):\n",
    "        super(Net, self).__init__()\n",
    "        self.fc1 = nn.Linear(d_in, d_in//2)\n",
    "        self.fc2 = nn.Linear(d_in//2, d_out)\n",
    "        \n",
    "    def forward(self, x):\n",
    "        x = F.relu(self.fc1(x))\n",
    "        x = F.relu(self.fc2(x))\n",
    "        return F.softmax(x)\n",
    "    \n",
    "\n",
    "        "
   ]
  },
  {
   "cell_type": "code",
   "execution_count": 8,
   "metadata": {},
   "outputs": [
    {
     "name": "stdout",
     "output_type": "stream",
     "text": [
      "cuda:0\n",
      "torch.Size([392, 784])\n",
      "torch.Size([392])\n",
      "torch.Size([10, 392])\n",
      "torch.Size([10])\n"
     ]
    }
   ],
   "source": [
    "net = Net(784, 10)\n",
    "device = torch.device(\"cuda:0\" if torch.cuda.is_available() else \"cpu\")\n",
    "\n",
    "# Assume that we are on a CUDA machine, then this should print a CUDA device:\n",
    "\n",
    "print(device)\n",
    "net.to(device)\n",
    "for param in net.parameters():\n",
    "    print(param.shape)"
   ]
  },
  {
   "cell_type": "code",
   "execution_count": 27,
   "metadata": {},
   "outputs": [
    {
     "name": "stdout",
     "output_type": "stream",
     "text": [
      "tensor([[ 2.6095e-06,  1.6545e-08,  5.9857e-10,  ...,  8.7844e-12,\n",
      "          2.3835e-04,  1.0835e-10],\n",
      "        [ 6.1308e-06,  4.2345e-07,  6.2853e-30,  ...,  6.4559e-23,\n",
      "          6.9533e-28,  9.2715e-17],\n",
      "        [ 1.0651e-13,  1.0651e-13,  4.9342e-08,  ...,  1.0651e-13,\n",
      "          1.0651e-13,  5.8917e-08],\n",
      "        ...,\n",
      "        [ 3.9273e-13,  2.1534e-10,  4.5062e-17,  ...,  1.9839e-23,\n",
      "          1.9839e-23,  1.9839e-23],\n",
      "        [ 3.3491e-12,  1.2110e-18,  3.6181e-14,  ...,  1.0923e-18,\n",
      "          1.2461e-16,  3.3999e-15],\n",
      "        [ 1.0627e-02,  8.8418e-12,  2.3095e-04,  ...,  1.2311e-07,\n",
      "          1.1172e-10,  1.8880e-07]], device='cuda:0')\n"
     ]
    },
    {
     "name": "stderr",
     "output_type": "stream",
     "text": [
      "C:\\Users\\hrj28\\AppData\\Local\\conda\\conda\\envs\\ptorch\\lib\\site-packages\\ipykernel_launcher.py:10: UserWarning: Implicit dimension choice for softmax has been deprecated. Change the call to include dim=X as an argument.\n",
      "  # Remove the CWD from sys.path while we load stuff.\n"
     ]
    }
   ],
   "source": [
    "# input = torch.rand(2, 28*28)\n",
    "input = torch.tensor(X.values, dtype=torch.float, device='cuda:0')\n",
    "\n",
    "# out = net(input)\n",
    "# print(out)"
   ]
  },
  {
   "cell_type": "code",
   "execution_count": 49,
   "metadata": {},
   "outputs": [
    {
     "data": {
      "image/png": "[encoded data removed]",
      "text/plain": [
       "<Figure size 432x288 with 1 Axes>"
      ]
     },
     "metadata": {},
     "output_type": "display_data"
    }
   ],
   "source": [
    "\n",
    "img1 = X.iloc[1,:].values.reshape(28,28)\n",
    "plot_img(img1)"
   ]
  },
  {
   "cell_type": "code",
   "execution_count": 137,
   "metadata": {},
   "outputs": [
    {
     "data": {
      "image/png": "[encoded data removed]",
      "text/plain": [
       "<Figure size 432x288 with 1 Axes>"
      ]
     },
     "metadata": {},
     "output_type": "display_data"
    }
   ],
   "source": [
    "t = torch.rand(28,28).random_(0, 255)\n",
    "plot_img(t)"
   ]
  },
  {
   "cell_type": "code",
   "execution_count": null,
   "metadata": {},
   "outputs": [],
   "source": []
  }
 ],
 "metadata": {
  "kernelspec": {
   "display_name": "Python 3",
   "language": "python",
   "name": "python3"
  },
  "language_info": {
   "codemirror_mode": {
    "name": "ipython",
    "version": 3
   },
   "file_extension": ".py",
   "mimetype": "text/x-python",
   "name": "python",
   "nbconvert_exporter": "python",
   "pygments_lexer": "ipython3",
   "version": "3.6.5"
  }
 },
 "nbformat": 4,
 "nbformat_minor": 2
}
